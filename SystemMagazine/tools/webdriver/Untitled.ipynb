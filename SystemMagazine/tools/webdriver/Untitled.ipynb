{
 "cells": [
  {
   "cell_type": "code",
   "execution_count": 3,
   "id": "6a8d941d",
   "metadata": {},
   "outputs": [
    {
     "name": "stdout",
     "output_type": "stream",
     "text": [
      "C:\\Users\\Admin\\Desktop\\Investigacion\\Systems\\SystemMagazine\n"
     ]
    }
   ],
   "source": [
    "cd .."
   ]
  },
  {
   "cell_type": "code",
   "execution_count": 4,
   "id": "a02512ce",
   "metadata": {},
   "outputs": [
    {
     "name": "stdout",
     "output_type": "stream",
     "text": [
      " Volume in drive C has no label.\n",
      " Volume Serial Number is A8F0-F981\n",
      "\n",
      " Directory of C:\\Users\\Admin\\Desktop\\Investigacion\\Systems\\SystemMagazine\n",
      "\n",
      "07/14/2022  08:45 PM    <DIR>          .\n",
      "07/15/2022  07:08 PM    <DIR>          ..\n",
      "07/14/2022  08:21 PM                74 .env\n",
      "07/14/2022  08:21 PM    <DIR>          controller\n",
      "07/15/2022  11:43 PM               338 main.py\n",
      "07/14/2022  08:24 PM    <DIR>          model\n",
      "07/14/2022  08:56 PM    <DIR>          tools\n",
      "               2 File(s)            412 bytes\n",
      "               5 Dir(s)  156,610,842,624 bytes free\n"
     ]
    }
   ],
   "source": [
    "ls"
   ]
  },
  {
   "cell_type": "code",
   "execution_count": 72,
   "id": "72504520",
   "metadata": {},
   "outputs": [],
   "source": [
    "from tools.initial import initial"
   ]
  },
  {
   "cell_type": "code",
   "execution_count": 73,
   "id": "a7390945",
   "metadata": {},
   "outputs": [],
   "source": [
    "search_keys=[\"Conference Proceedings - Congreso Colombiano y Conferencia Internacional de Calidad de Aire y Salud Publica, CASAP 2019\",\"Journal of Network and Computer Applications\"]\n",
    "program = initial(search_keys)"
   ]
  },
  {
   "cell_type": "code",
   "execution_count": 75,
   "id": "b69f1520",
   "metadata": {},
   "outputs": [],
   "source": [
    "#Enter link \n",
    "program.driver.get(program.urls[0])"
   ]
  },
  {
   "cell_type": "code",
   "execution_count": 76,
   "id": "02e96fc6",
   "metadata": {},
   "outputs": [],
   "source": [
    "#Good Programeer 1 GET names of magnazited\n",
    "from selenium.webdriver.support.ui import WebDriverWait\n",
    "from selenium.webdriver.common.by import By\n",
    "from selenium.webdriver.support import expected_conditions as EC\n",
    "\n",
    "#Search magnazited\n",
    "pattern = \"//div[@class='search_results']//child::a\"\n",
    "try:\n",
    "    WebDriverWait(program.driver, 10).until(EC.element_to_be_clickable((By.XPATH,pattern)))\n",
    "    posiblesNames= program.driver.find_elements_by_xpath(pattern)\n",
    "except:\n",
    "    print(\"[ERROR] No found elements\")\n",
    "pattern = './/span'\n",
    "found = False\n",
    "try:\n",
    "    WebDriverWait(program.driver, 10).until(EC.element_to_be_clickable((By.XPATH,pattern)))\n",
    "    for search in search_keys:\n",
    "        for names in posiblesNames:\n",
    "            result = names.find_element_by_xpath(pattern)\n",
    "            if search.lower()==str(result.text).strip().lower():\n",
    "                result.click()\n",
    "                found = True\n",
    "                break\n",
    "        if found:\n",
    "            break\n",
    "except:\n",
    "    print(\"[ERROR] No found element\")\n",
    "    #return -1"
   ]
  },
  {
   "cell_type": "code",
   "execution_count": 81,
   "id": "274918d8",
   "metadata": {},
   "outputs": [],
   "source": [
    "#Good Programmer 2 GET name\n",
    "dataDataBase = {\n",
    "    'COUNTRY':\"\",\n",
    "    \"Quartil\":\"\"\n",
    "}\n",
    "patternCountry=\"//div[@class='journalgrid']//child::div\"\n",
    "patternCountryPart = './/h2'\n",
    "try:\n",
    "    WebDriverWait(program.driver, 10).until(EC.element_to_be_clickable((By.XPATH,pattern)))\n",
    "    posiblesNames= program.driver.find_elements_by_xpath(patternCountry)\n",
    "except:\n",
    "    print(\"[ERROR] No found other elements\")\n",
    "# Search for each data element if the information is found, then insert that information\n",
    "for key in dataDataBase.keys():\n",
    "    for names in posiblesNames:\n",
    "        try:\n",
    "            if names.find_element_by_xpath(patternCountryPart).text.lower()==key.lower():\n",
    "                dataDataBase[key]=names.find_element_by_xpath(\".//a\").text.lower()\n",
    "        except:\n",
    "            pass\n",
    "\n",
    "patternCube=\"//div[@class='combo_button table_button']\"\n",
    "program.driver.find_element_by_xpath(patternCube).click()"
   ]
  },
  {
   "cell_type": "code",
   "execution_count": 82,
   "id": "d05e1635",
   "metadata": {},
   "outputs": [
    {
     "data": {
      "text/plain": [
       "{'COUNTRY': 'united states', 'Quartil': '', 'Quartiles': 'No quartil'}"
      ]
     },
     "execution_count": 82,
     "metadata": {},
     "output_type": "execute_result"
    }
   ],
   "source": [
    "from datetime import datetime\n",
    "import pandas as pd\n",
    "import numpy as np\n",
    "\n",
    "# Sort by largest number of quartile\n",
    "now = str(datetime.now()).split('-')\n",
    "\n",
    "Q=[]\n",
    "uniqueQ=[]\n",
    "try:\n",
    "    tbody = program.driver.find_elements_by_xpath('//div[@class=\"dashboard\"][1]/child::div[1]/child::div[2]/child::div[2]//table/tbody/child::*')\n",
    "    WebDriverWait(program.driver, 10).until(EC.element_to_be_clickable((By.XPATH,'//div[@class=\"dashboard\"][1]/child::div[1]/child::div[2]/child::div[2]//table/tbody/child::*')))\n",
    "except:\n",
    "    pass\n",
    "data = []\n",
    "for td in tbody:\n",
    "    if str(int(now[0])) in str(td.text) or str(int(now[0])-1) in str(td.text):\n",
    "        cuartil =str(td.text).split(\" \")[-1:][0]\n",
    "        if not cuartil in uniqueQ:\n",
    "            uniqueQ.append(cuartil)\n",
    "        Q.append(cuartil)\n",
    "#for \n",
    "result = {'Q':Q}\n",
    "df= pd.DataFrame(result)\n",
    "\n",
    "maxnumber=df.groupby('Q')['Q'].count().max()\n",
    "Q=[]\n",
    "for cuartil in uniqueQ:\n",
    "    if maxnumber == df.groupby('Q')['Q'].count()[str(cuartil)]:\n",
    "        Q.append(cuartil)\n",
    "\n",
    "cuartilnumber = 10\n",
    "cuartil = \"\"\n",
    "for maxcuartil in Q:\n",
    "    if int(\"\".join(maxcuartil.split(\"Q\")))< cuartilnumber:\n",
    "        cuartilnumber = int(\"\".join(maxcuartil.split(\"Q\")))\n",
    "        cuartil=maxcuartil\n",
    "if cuartil == '':\n",
    "    cuartil='No quartil'\n",
    "dataDataBase['Quartiles'] =cuartil\n",
    "dataDataBase"
   ]
  },
  {
   "cell_type": "code",
   "execution_count": 83,
   "id": "8e6b12ab",
   "metadata": {},
   "outputs": [],
   "source": [
    "program.driver.quit()\n",
    "del program"
   ]
  },
  {
   "cell_type": "code",
   "execution_count": 84,
   "id": "594048b5",
   "metadata": {},
   "outputs": [
    {
     "data": {
      "text/plain": [
       "[]"
      ]
     },
     "execution_count": 84,
     "metadata": {},
     "output_type": "execute_result"
    }
   ],
   "source": [
    "data"
   ]
  },
  {
   "cell_type": "code",
   "execution_count": null,
   "id": "df1fbbf1",
   "metadata": {},
   "outputs": [],
   "source": []
  }
 ],
 "metadata": {
  "kernelspec": {
   "display_name": "SystemMagazine",
   "language": "python",
   "name": "systemmagazine"
  },
  "language_info": {
   "codemirror_mode": {
    "name": "ipython",
    "version": 3
   },
   "file_extension": ".py",
   "mimetype": "text/x-python",
   "name": "python",
   "nbconvert_exporter": "python",
   "pygments_lexer": "ipython3",
   "version": "3.7.13"
  }
 },
 "nbformat": 4,
 "nbformat_minor": 5
}
