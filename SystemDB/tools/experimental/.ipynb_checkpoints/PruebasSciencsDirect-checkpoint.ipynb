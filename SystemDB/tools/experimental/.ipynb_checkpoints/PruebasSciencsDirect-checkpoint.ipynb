{
 "cells": [
  {
   "cell_type": "code",
   "execution_count": 5,
   "id": "c61562a7",
   "metadata": {},
   "outputs": [],
   "source": [
    "from selenium import webdriver\n",
    "from selenium.webdriver.chrome.options import Options\n",
    "from selenium.webdriver.common.by import By\n",
    "from selenium.webdriver.support.ui import WebDriverWait\n",
    "from selenium.webdriver.support import expected_conditions as EC\n",
    "from selenium.common.exceptions import NoSuchElementException \n",
    "import __init__"
   ]
  },
  {
   "cell_type": "code",
   "execution_count": 3,
   "id": "cb9e52c6",
   "metadata": {},
   "outputs": [],
   "source": [
    "import time\n",
    "import urllib.request\n",
    "import os\n",
    "import requests\n",
    "import io\n",
    "import os\n",
    "from dotenv import load_dotenv"
   ]
  },
  {
   "cell_type": "code",
   "execution_count": null,
   "id": "35402cd5",
   "metadata": {},
   "outputs": [],
   "source": [
    "import os\n",
    "from ScopeScraper import ScopeScraper\n",
    "from patch import webdriver_executable\n",
    "import numpy as np\n",
    "import pandas as pd\n",
    "import random\n",
    "from datetime import date\n",
    "from datetime import datetime"
   ]
  },
  {
   "cell_type": "code",
   "execution_count": 59,
   "id": "9923b2a9",
   "metadata": {},
   "outputs": [],
   "source": [
    "def generate_words(name_Filters,logic,word_no_necessary):\n",
    "    df = pd.DataFrame(name_Filters)\n",
    "    x_ax,y_ax,z_ax= np.meshgrid(df['word_key'],df['word_complementary'],df['word_features'])\n",
    "    vals =  np.c_[x_ax.ravel(), y_ax.ravel(),z_ax.ravel()]\n",
    "    words =[]\n",
    "   \n",
    "    for i in vals:\n",
    "       \n",
    "        text =\" \"\n",
    "        for j in word_no_necessary:\n",
    "            text = text + logic[2]+  \" \" + j+\" \"\n",
    "\n",
    "        #print(i[0]+  \" \"+logic[0]+  \" \"+i[1]+  \" \"+logic[random.choice(count)]+  \" \"+i[2]+text)\n",
    "        for j in logic:\n",
    "            words.append(i[0]+  \" \"+logic[0]+  \" \"+i[1]+  \" \"+j+  \" \"+i[2]+text)\n",
    "    return words"
   ]
  },
  {
   "cell_type": "code",
   "execution_count": 60,
   "id": "accdb615",
   "metadata": {},
   "outputs": [],
   "source": [
    "name_Filters = {\n",
    "        'word_features' : ['\"Genetic algorithms\"','\"network algorithms\"', '\"dynamic programming\"', '\"game theory\"', '\"graph theory\"'],\n",
    "        'word_key' : ['\"Heart failure\"','\"Cardiovascular diseases\"','\"Abnormal heart rhythms\"','\"Aorta disease\"','\"Congenital heart disease\"'],\n",
    "        'word_complementary'  : ['\"Artificial intelligence\"','\"Feature selection\"','\"Machine learning\"','\"Deep learning\"','\"Computer science\"']\n",
    "       \n",
    "    }\n",
    "logic= ['AND','OR','NOT']\n",
    "word_no_necessary = ['\"Prototype\"','\"First study\"','\"Animals\"','\"Floors\"']\n",
    "subject_area = [\"Computer Science\",\"Engineering\",\"Mathematics\",\"Biochemistry\", \"Genetics and Molecular Biology\",\"Neuroscience\",\"Medicine and Dentistry\",\"Decision Sciences\",\"Psychology\"]"
   ]
  },
  {
   "cell_type": "code",
   "execution_count": 61,
   "id": "a0297359",
   "metadata": {},
   "outputs": [
    {
     "name": "stdout",
     "output_type": "stream",
     "text": [
      "[INFO] Create new folder\n",
      "[INFO] Scraping for DB link... Please wait.\n"
     ]
    }
   ],
   "source": [
    "webdriver_path = os.path.normpath(os.path.join(os.getcwd(), 'webdriver', webdriver_executable()))\n",
    "articules_path = os.path.normpath(os.path.join(os.getcwd(), 'articles'))\n",
    "directDB = ScopeScraper(webdriver_path,articules_path,name_Filters)\n",
    "directDB.enter_systems()\n"
   ]
  },
  {
   "cell_type": "code",
   "execution_count": 62,
   "id": "9bb9491b",
   "metadata": {},
   "outputs": [
    {
     "name": "stdout",
     "output_type": "stream",
     "text": [
      "\"Heart failure\" AND \"Artificial intelligence\" AND \"Genetic algorithms\" NOT \"Prototype\" NOT \"First study\" NOT \"Animals\" NOT \"Floors\" \n",
      "[INFO] Scraping for DB link... Please wait.\n",
      "Review articles (9)\n",
      "Book chapters (4)\n",
      "\"Heart failure\" AND \"Artificial intelligence\" AND \"Genetic algorithms\" NOT \"Prototype\" NOT \"First study\" NOT \"Animals\" NOT \"Floors\" \n",
      "13\n"
     ]
    }
   ],
   "source": [
    "time.sleep(1)\n",
    "count = 0\n",
    "for search_string in generate_words(name_Filters,logic,word_no_necessary):\n",
    "    print(search_string)\n",
    "    directDB.search_word(search_string)\n",
    "    directDB.find_article_urls()\n",
    "    if count == 0:\n",
    "        break\n",
    "    count += 1"
   ]
  },
  {
   "cell_type": "code",
   "execution_count": 48,
   "id": "f11c50eb",
   "metadata": {},
   "outputs": [],
   "source": [
    "directDB.driver.close()"
   ]
  },
  {
   "cell_type": "code",
   "execution_count": 63,
   "id": "f6d1adec",
   "metadata": {},
   "outputs": [],
   "source": [
    "driver=directDB.driver"
   ]
  },
  {
   "cell_type": "code",
   "execution_count": 97,
   "id": "cf6f84d3",
   "metadata": {},
   "outputs": [],
   "source": [
    "textarea = driver.find_element_by_xpath('//*[@id=\"qs\"]')\n"
   ]
  },
  {
   "cell_type": "code",
   "execution_count": null,
   "id": "0bcdc616",
   "metadata": {},
   "outputs": [],
   "source": [
    "textarea.click()\n",
    "textarea.clear()"
   ]
  },
  {
   "cell_type": "code",
   "execution_count": null,
   "id": "4c5c9fc3",
   "metadata": {},
   "outputs": [],
   "source": [
    "textarea.send_keys(\"hola\")"
   ]
  },
  {
   "cell_type": "code",
   "execution_count": 42,
   "id": "6f65f249",
   "metadata": {},
   "outputs": [
    {
     "data": {
      "text/plain": [
       "104506"
      ]
     },
     "execution_count": 42,
     "metadata": {},
     "output_type": "execute_result"
    }
   ],
   "source": [
    "int(''.join(driver.find_element_by_xpath('//span[@class=\"search-body-results-text\"]').text.split(' ')[0].split(',')))"
   ]
  },
  {
   "cell_type": "code",
   "execution_count": 216,
   "id": "d89e1464",
   "metadata": {},
   "outputs": [],
   "source": [
    "dates = driver.find_element_by_xpath('//ol')\n",
    "da =dates.find_elements_by_xpath('./child::*')\n",
    "today = date.today()\n",
    "dat = []\n",
    "for i in da:\n",
    "    if int(''.join(i.text.split(' ')[0]).isnumeric()):\n",
    "        if int(''.join(i.text.split(' ')[0])) > int(today.year-5):\n",
    "            dat.append(int(''.join(i.text.split(' ')[0])))\n",
    "for i in range(len(dat)):\n",
    "    a = dates.find_element_by_xpath(f'//label[@for=\"years-{str(dat[i])}\"]//span[@class=\"checkbox-check checkbox-small checkbox-label-indent\"]')\n",
    "    a.click()"
   ]
  },
  {
   "cell_type": "code",
   "execution_count": 217,
   "id": "3b8945d6",
   "metadata": {},
   "outputs": [
    {
     "name": "stdout",
     "output_type": "stream",
     "text": [
      "Review articles (11)\n",
      "Book chapters (5)\n"
     ]
    }
   ],
   "source": [
    "art =['Review articles','Book chapters']\n",
    "articletype = driver.find_element_by_xpath('//form[@name=\"filters\"]/child::div/div[2]//ol')\n",
    "li =articletype.find_elements_by_xpath('./child::*')\n",
    "count = 1\n",
    "for i in li:\n",
    "    for j in art:\n",
    "        text = \"\"\n",
    "        for x in i.text.split():\n",
    "            value = ''.join(''.join(x.split(\"(\")).split(\")\")[0].split(\",\"))\n",
    "            if value.isnumeric():\n",
    "                value= int(value)\n",
    "            if type(value)==str:\n",
    "                text = text+\" \"+value\n",
    "        if j == text.strip():\n",
    "            print(i.text)\n",
    "            article = driver.find_element_by_xpath(f'//form[@name=\"filters\"]/child::div/div[2]//ol/child::li[{count}]')\n",
    "            article.click()\n",
    "            break\n",
    "    count = count + 1"
   ]
  },
  {
   "cell_type": "code",
   "execution_count": 214,
   "id": "a876ee39",
   "metadata": {},
   "outputs": [
    {
     "name": "stdout",
     "output_type": "stream",
     "text": [
      "Engineering (990)\n",
      "Computer Science (617)\n",
      "Medicine and Dentistry (390)\n"
     ]
    }
   ],
   "source": [
    "art =[\"Computer Science\",\"Engineering\",\"Mathematics\",\"Biochemistry\", \"Genetics and Molecular Biology\",\"Neuroscience\",\"Medicine and Dentistry\",\"Psychology\"]\n",
    "articletype = driver.find_element_by_xpath('//form[@name=\"filters\"]/child::div/div[4]//ol')\n",
    "li =articletype.find_elements_by_xpath('./child::*')\n",
    "count = 1\n",
    "for i in li:\n",
    "    for j in art:\n",
    "        text = \"\"\n",
    "        for x in i.text.split():\n",
    "            value = ''.join(''.join(x.split(\"(\")).split(\")\")[0].split(\",\"))\n",
    "            if value.isnumeric():\n",
    "                value= int(value)\n",
    "            if type(value)==str:\n",
    "                text = text+\" \"+value\n",
    "        if j == text.strip():\n",
    "            print(i.text)\n",
    "            #mirar el div con div es el lugar de la section y el otro li count dejarlo como esta\n",
    "            article = driver.find_element_by_xpath(f'//form[@name=\"filters\"]/child::div/div[4]//ol/child::li[{count}]')\n",
    "            article.click()\n",
    "            break\n",
    "    count = count + 1"
   ]
  },
  {
   "cell_type": "code",
   "execution_count": 215,
   "id": "9f54dab3",
   "metadata": {},
   "outputs": [
    {
     "name": "stdout",
     "output_type": "stream",
     "text": [
      "Computer Aided Chemical Engineering (97)\n",
      "European Journal of Operational Research (41)\n",
      "Computer Science Review (32)\n",
      "Journal of the American College of Cardiology (17)\n",
      "Journal of King Saud University - Computer and Information Sciences (17)\n",
      "Computer Methods and Programs in Biomedicine (16)\n",
      "Computers in Biology and Medicine (14)\n",
      "Heart Failure Clinics (14)\n",
      "Advances in Computers (13)\n"
     ]
    }
   ],
   "source": [
    "art = ['JACC: Cardiovascular Imaging','Artificial Intelligence in Precision Health, 2020','Personalized Health Systems for Cardiovascular Disease, 2022','Computers in Biology and Medicine','Artificial Intelligence in Medicine','Computer Aided Chemical Engineering','European Journal of Operational Research','Computer Science Review','Journal of the American College of Cardiology','Heart Failure Clinics','Computer Methods and Programs in Biomedicine','Journal of King Saud University - Computer and Information Sciences','Advances in Computers','Canadian Journal of Cardiology',]\n",
    "articletype = driver.find_element_by_xpath('//form[@name=\"filters\"]/child::div/div[3]//ol')\n",
    "li =articletype.find_elements_by_xpath('./child::*')\n",
    "count = 1\n",
    "for i in li:\n",
    "    for j in art:\n",
    "        text = \"\"\n",
    "        for x in i.text.split():\n",
    "            value = ''.join(''.join(x.split(\"(\")).split(\")\")[0].split(\",\"))\n",
    "            if value.isnumeric():\n",
    "                value= int(value)\n",
    "            if type(value)==str:\n",
    "                text = text+\" \"+value\n",
    "        if j == text.strip():\n",
    "            print(i.text)\n",
    "            #mirar el div con div es el lugar de la section y el otro li count dejarlo como esta\n",
    "            article = driver.find_element_by_xpath(f'//form[@name=\"filters\"]/child::div/div[3]//ol/child::li[{count}]')\n",
    "            article.click()\n",
    "            break\n",
    "    count = count + 1"
   ]
  },
  {
   "cell_type": "code",
   "execution_count": 218,
   "id": "9625dad4",
   "metadata": {},
   "outputs": [
    {
     "data": {
      "text/plain": [
       "16"
      ]
     },
     "execution_count": 218,
     "metadata": {},
     "output_type": "execute_result"
    }
   ],
   "source": [
    "int(''.join(driver.find_element_by_xpath('//span[@class=\"search-body-results-text\"]').text.split(' ')[0].split(',')))"
   ]
  },
  {
   "cell_type": "code",
   "execution_count": 1,
   "id": "695ecc1e",
   "metadata": {},
   "outputs": [
    {
     "name": "stdout",
     "output_type": "stream",
     "text": [
      " Volume in drive C has no label.\n",
      " Volume Serial Number is A8F0-F981\n",
      "\n",
      " Directory of C:\\Users\\Admin\\Desktop\\Investigacion\\datos\\sistema\\tools\\experimental\n",
      "\n",
      "06/27/2022  08:04 PM    <DIR>          .\n",
      "06/24/2022  07:37 PM    <DIR>          ..\n",
      "06/27/2022  07:53 PM    <DIR>          .ipynb_checkpoints\n",
      "06/27/2022  08:04 PM            35,266 PruebasSciencsDirect.ipynb\n",
      "06/27/2022  07:52 PM                37 __init__.py\n",
      "06/27/2022  07:52 PM    <DIR>          __pycache__\n",
      "               2 File(s)         35,303 bytes\n",
      "               4 Dir(s)  146,868,056,064 bytes free\n"
     ]
    }
   ],
   "source": [
    "!dir"
   ]
  },
  {
   "cell_type": "code",
   "execution_count": 2,
   "id": "c75bce57",
   "metadata": {},
   "outputs": [
    {
     "name": "stdout",
     "output_type": "stream",
     "text": [
      "C:\\Users\\Admin\\Desktop\\Investigacion\\datos\\sistema\\tools\n"
     ]
    }
   ],
   "source": [
    "cd .."
   ]
  },
  {
   "cell_type": "code",
   "execution_count": 3,
   "id": "7a13a55b",
   "metadata": {},
   "outputs": [
    {
     "name": "stdout",
     "output_type": "stream",
     "text": [
      "C:\\Users\\Admin\\Desktop\\Investigacion\\datos\\sistema\n"
     ]
    }
   ],
   "source": [
    "cd .."
   ]
  },
  {
   "cell_type": "code",
   "execution_count": 4,
   "id": "a7e36e9f",
   "metadata": {},
   "outputs": [],
   "source": [
    "from models.Scopus import Scopus\n",
    "import __init__\n",
    "from models.MasterScraper import MasterScraper\n",
    "import time\n",
    "import os\n",
    "from selenium.webdriver.common.by import By\n",
    "from selenium.webdriver.support import expected_conditions as EC\n",
    "from selenium.webdriver.support.ui import WebDriverWait\n",
    "from tools.functional.patch import webdriver_executable\n",
    "from controllador.controllerpalabras import controllerpalabras\n",
    "from tools.functional.read import generate_words\n",
    "from selenium import webdriver\n",
    "from selenium.webdriver.chrome.options import Options\n",
    "from selenium.webdriver.support import expected_conditions as EC\n",
    "from selenium.common.exceptions import NoSuchElementException       \n",
    "from selenium.webdriver.common.by import By\n",
    "from selenium.webdriver.support import expected_conditions as EC\n",
    "from selenium.webdriver.support.ui import WebDriverWait\n",
    "#import helper libraries\n",
    "import time\n",
    "import os\n",
    "import tools.functional.patch as patch \n",
    "from tools.functional.read import move\n",
    "from dotenv import load_dotenv"
   ]
  },
  {
   "cell_type": "code",
   "execution_count": 9,
   "id": "400ff4aa",
   "metadata": {},
   "outputs": [],
   "source": [
    "webdriver_path = os.path.normpath(os.path.join(os.getcwd(), 'models/webdriver', webdriver_executable()))\n",
    "articules_path = os.path.normpath(os.path.join(os.getcwd(), 'articles'))"
   ]
  },
  {
   "cell_type": "code",
   "execution_count": 10,
   "id": "6ecc4ae4",
   "metadata": {},
   "outputs": [
    {
     "name": "stdout",
     "output_type": "stream",
     "text": [
      "[ADERROR] Same \"Data mining\"\n",
      "[ADERROR] Same \"Genetic algorithms\"\n",
      "[ADERROR] Same \"Network algorithms\"\n",
      "[ADERROR] Same \"Dynamic programming\"\n",
      "[ADERROR] Same \"Game theory\"\n",
      "[ADERROR] Same \"Graph theory\"\n",
      "[ADERROR] Same \"Clustering\"\n",
      "[ADERROR] Same \"Patterns\"\n",
      "[ERROR] Same \"Heart diagnostics\" ,word_key\n",
      "[ERROR] Same \"Heart failure\" ,word_key\n",
      "[ERROR] Same \"Cardiovascular diseases\" ,word_key\n",
      "[ERROR] Same \"Heart rhythms\" ,word_key\n",
      "[ERROR] Same \"Heart problem\" ,word_key\n",
      "[ERROR] Same \"Heart disease\" ,word_key\n",
      "[ERROR] Same \"Heart condition\" ,word_key\n",
      "[ERROR] Same \"Heart diseases\" ,word_key\n",
      "[ERROR] Same \"Artificial intelligence\"  ,word_complementary\n",
      "[ERROR] Same \"Feature selection\"  ,word_complementary\n",
      "[ERROR] Same \"Machine learning\"  ,word_complementary\n",
      "[ERROR] Same \"Deep learning\"  ,word_complementary\n",
      "[ERROR] Same \"Computer science\"  ,word_complementary\n",
      "[ERROR] Same \"Computer programmed\"  ,word_complementary\n",
      "[ERROR] Same \"Natural Language Processing\"  ,word_complementary\n",
      "[ERROR] Same \"Computer\"  ,word_complementary\n",
      "[ERROR] Same \"AND\"  ,logic\n",
      "[ERROR] Same \"OR\"  ,logic\n",
      "[ERROR] Same \"AND NOT\"  ,logic\n",
      "[ERROR] Same \"Prototype\"  ,word_no_necessary\n",
      "[ERROR] Same \"Mhealth\"  ,word_no_necessary\n",
      "[ERROR] Same \"Image\"  ,word_no_necessary\n"
     ]
    }
   ],
   "source": [
    "#Agregar palabras\n",
    "controller = controllerpalabras()\n",
    "controller.insertar_palabras()\n",
    "name_Filters,logic,word_no_necessary = controller.get_palabras()\n",
    "\n",
    " "
   ]
  },
  {
   "cell_type": "code",
   "execution_count": 11,
   "id": "bf83253d",
   "metadata": {
    "scrolled": true
   },
   "outputs": [
    {
     "name": "stdout",
     "output_type": "stream",
     "text": [
      "[INFO] Create new folder\n",
      "====== ENTER SYSTEM [INFO] Scraping for DB link... Please wait. ======\n",
      "[INFO] ENTER ADVANCED DOCUMENT\n",
      "[INFO] Searching information\n",
      "[INFO] Filtters Scopus\n",
      "[INFO] NUMBERS OF FILTTERS FOUND 0\n",
      "[INFO] NUMBERS OF FILTTERS FOUND 1\n",
      "[INFO] Show more\n",
      "[INFO] NUMBERS OF FILTTERS FOUND 2\n",
      "[INFO] Show more\n",
      "[Error] No found viewmore\n",
      "[Error] No found every items hidden\n",
      "[Error] No found item hidden\n",
      "[INFO] Show more\n",
      "[INFO] NUMBERS OF FILTTERS FOUND 3\n",
      "[ERROR] NO CLICK\n",
      "960\n"
     ]
    }
   ],
   "source": [
    "   #Programa principal Direct\n",
    "info =[]\n",
    "directDB = Scopus(webdriver_path,articules_path,name_Filters,logic,word_no_necessary)\n",
    "directDB.enter_systems()\n",
    "directDB.search_link()\n",
    "directDB.search_word()"
   ]
  },
  {
   "cell_type": "code",
   "execution_count": 12,
   "id": "c433efe1",
   "metadata": {},
   "outputs": [],
   "source": [
    "driver = directDB.driver"
   ]
  },
  {
   "cell_type": "code",
   "execution_count": 19,
   "id": "1062cbdf",
   "metadata": {},
   "outputs": [],
   "source": [
    "pathlimit ='//div[@id=\"leftSideBar\"]/child::div[3]//div[@class=\"bottom\"]//div[@class=\"refineButtons\"]//ul/child::li[1]//input'\n",
    "pathlimit = driver.find_element_by_xpath(pathlimit)"
   ]
  },
  {
   "cell_type": "code",
   "execution_count": 21,
   "id": "917db3ac",
   "metadata": {},
   "outputs": [],
   "source": [
    "driver.execute_script(\"arguments[0].click();\", pathlimit)"
   ]
  },
  {
   "cell_type": "code",
   "execution_count": 22,
   "id": "beffed8c",
   "metadata": {},
   "outputs": [
    {
     "data": {
      "text/plain": [
       "'254'"
      ]
     },
     "execution_count": 22,
     "metadata": {},
     "output_type": "execute_result"
    }
   ],
   "source": [
    "pathNumerArticules =\"//h1[@class='documentHeader']//span[@class='resultsCount']\"\n",
    "driver.find_element_by_xpath(pathNumerArticules).text.strip()"
   ]
  },
  {
   "cell_type": "code",
   "execution_count": 24,
   "id": "1c3c8a0e",
   "metadata": {},
   "outputs": [],
   "source": [
    "#\n",
    "selectAll = '//label[@class=\"checkbox-label noLabel\"]'\n",
    "selectAll = driver.find_element_by_xpath(selectAll)\n",
    "driver.execute_script(\"arguments[0].click();\", selectAll)"
   ]
  },
  {
   "cell_type": "code",
   "execution_count": 25,
   "id": "b67bad0c",
   "metadata": {},
   "outputs": [],
   "source": [
    "selecExport = '//button[@id=\"export_results\"]'\n",
    "selecExport = driver.find_element_by_xpath(selecExport)\n",
    "driver.execute_script(\"arguments[0].click();\", selecExport)"
   ]
  },
  {
   "cell_type": "code",
   "execution_count": 26,
   "id": "0cd7ad63",
   "metadata": {},
   "outputs": [],
   "source": [
    "cvsForm = '//input[@name=\"exportRadio\" and @id=\"CSV\"]'\n",
    "cvsForm = driver.find_element_by_xpath(cvsForm)\n",
    "driver.execute_script(\"arguments[0].click();\", cvsForm)"
   ]
  },
  {
   "cell_type": "code",
   "execution_count": 27,
   "id": "78351923",
   "metadata": {},
   "outputs": [],
   "source": [
    "citacionInformation = '//label[@for=\"selectedCitationInformationItemsAll-Export\"]'\n",
    "citacionInformation = driver.find_element_by_xpath(citacionInformation)\n",
    "driver.execute_script(\"arguments[0].click();\", citacionInformation)"
   ]
  },
  {
   "cell_type": "code",
   "execution_count": 28,
   "id": "94b34010",
   "metadata": {},
   "outputs": [],
   "source": [
    "abstractKeywords = '//label[@for=\"selectedAbstractInformationItemsAll-Export\"]'\n",
    "abstractKeywords = driver.find_element_by_xpath(abstractKeywords)\n",
    "driver.execute_script(\"arguments[0].click();\", abstractKeywords)"
   ]
  },
  {
   "cell_type": "code",
   "execution_count": null,
   "id": "1a0b63a1",
   "metadata": {},
   "outputs": [],
   "source": [
    "abstractKeywords = '//label[@for=\"selectedFundInformationItemsAll-Export\"]'\n",
    "abstractKeywords = driver.find_element_by_xpath(abstractKeywords)\n",
    "driver.execute_script(\"arguments[0].click();\", abstractKeywords)\n"
   ]
  }
 ],
 "metadata": {
  "kernelspec": {
   "display_name": "Python (base)",
   "language": "python",
   "name": "base"
  },
  "language_info": {
   "codemirror_mode": {
    "name": "ipython",
    "version": 3
   },
   "file_extension": ".py",
   "mimetype": "text/x-python",
   "name": "python",
   "nbconvert_exporter": "python",
   "pygments_lexer": "ipython3",
   "version": "3.9.12"
  }
 },
 "nbformat": 4,
 "nbformat_minor": 5
}
