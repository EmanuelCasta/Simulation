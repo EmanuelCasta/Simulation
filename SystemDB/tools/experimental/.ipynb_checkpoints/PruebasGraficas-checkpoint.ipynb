{
 "cells": [
  {
   "cell_type": "code",
   "execution_count": 3,
   "id": "18ef9662",
   "metadata": {},
   "outputs": [
    {
     "name": "stdout",
     "output_type": "stream",
     "text": [
      "C:\\Users\\Admin\\Desktop\\Investigacion\\Systems\\SystemDB\\tools\n"
     ]
    }
   ],
   "source": [
    "cd .."
   ]
  },
  {
   "cell_type": "code",
   "execution_count": 5,
   "id": "09594f11",
   "metadata": {},
   "outputs": [
    {
     "name": "stdout",
     "output_type": "stream",
     "text": [
      "C:\\Users\\Admin\\Desktop\\Investigacion\\Systems\\SystemDB\n"
     ]
    }
   ],
   "source": [
    "cd .."
   ]
  },
  {
   "cell_type": "markdown",
   "id": "d02f094b",
   "metadata": {},
   "source": [
    "# Conectar bases de datos del scrap"
   ]
  },
  {
   "cell_type": "code",
   "execution_count": 6,
   "id": "5220d5a6",
   "metadata": {},
   "outputs": [],
   "source": [
    "from MySQLdb import _mysql\n",
    "from dotenv import load_dotenv\n",
    "import sys\n",
    "#sys.path.insert(0, '../')\n",
    "from redirect import redirect\n",
    "\n",
    "class ConnectionDB():\n",
    "    def __init__(self):\n",
    "        load_dotenv()\n",
    "        self.data =redirect()\n",
    "    \n",
    "    def connect(self):\n",
    "        return _mysql.connect(self.data.host, self.data.user,self.data.passw,self.data.names)"
   ]
  },
  {
   "cell_type": "code",
   "execution_count": 237,
   "id": "563e1d39",
   "metadata": {},
   "outputs": [],
   "source": [
    "import pandas as pd"
   ]
  },
  {
   "cell_type": "markdown",
   "id": "9bd8326b",
   "metadata": {},
   "source": [
    "# Procesar los datos"
   ]
  },
  {
   "cell_type": "code",
   "execution_count": 123,
   "id": "99f5003f",
   "metadata": {},
   "outputs": [],
   "source": [
    "processQuery = \"\"\"SELECT  * FROM scraping.articulo inner join revista on revista.idRevista = articulo.idRevista where Fecha >= 2018 ;\"\"\"\n",
    "process = ConnectionDB().connect()\n",
    "process.query(processQuery)\n",
    "result=process.use_result().fetch_row(maxrows=0,how=1)\n",
    "process.close()"
   ]
  },
  {
   "cell_type": "code",
   "execution_count": 155,
   "id": "97c4bc93",
   "metadata": {},
   "outputs": [],
   "source": [
    "processQuery = \"\"\"SELECT  * FROM revista;\"\"\"\n",
    "process = ConnectionDB().connect()\n",
    "process.query(processQuery)\n",
    "result2=process.use_result().fetch_row(maxrows=0,how=1)\n",
    "process.close()"
   ]
  },
  {
   "cell_type": "code",
   "execution_count": 199,
   "id": "33f41473",
   "metadata": {},
   "outputs": [],
   "source": [
    "processQuery = \"\"\"SELECT count(idArticulo) FROM scraping.articulo where Fecha >= 2018 \n",
    "and nombre not  like \"%Imag_%\" and resumen not like \"%Imag_%\" and nombre not like \"%Mhealth%\" and resumen not like \"%Mhealth%\"\n",
    "and (\n",
    "nombre like '%cardio_%' or nombre like '%heart_%'  or nombre like '%Feature selection%' or nombre like '%Natural Language Processing%' or \n",
    "nombre like '%Machine%' or nombre like '%deep%' or nombre like '%lear_%' or nombre like '%scien_%' or nombre like '%program_%' or nombre like '%Comput_%' or \n",
    "nombre like '%Artifi_%'  or  nombre like '%intelli_%'\n",
    ") and (\n",
    "resumen like '%cardio_%' or resumen like '%heart_%'  or resumen like '%Feature selection%' or resumen like '%Natural Language Processing%' or \n",
    "resumen like '%Machine%' or resumen like '%deep%' or resumen like '%lear_%' or resumen like '%scien_%' or resumen like '%program_%' or resumen like '%Comput_%' or \n",
    "resumen like '%Artifi_%'  or  resumen like '%intelli_%');\"\"\"\n",
    "process = ConnectionDB().connect()\n",
    "process.query(processQuery)\n",
    "result3=process.use_result().fetch_row(maxrows=0,how=1)\n",
    "process.close()\n"
   ]
  },
  {
   "cell_type": "code",
   "execution_count": 233,
   "id": "257e0a04",
   "metadata": {},
   "outputs": [],
   "source": [
    "processQuery = \"\"\"select count(idArticulo) FROM scraping.articulo where  \n",
    "(resumen like \"% framingham %\" or  \n",
    "resumen like \"% grace %\" or \n",
    "resumen like \"% procam %\" or \n",
    "resumen like \"% score %\" or \n",
    "resumen like \"% qrisk %\" or \n",
    "resumen like \"% qrisk_2 %\" or \n",
    "resumen like \"% timi score %\" or \n",
    "resumen like \"% timi %\" or \n",
    "resumen like \"% euroscore_1 %\" or  \n",
    "resumen like \"% euroscore_2 %\" or  \n",
    "resumen like \"%sts score%\" or \n",
    "resumen like \"%ARGSCORE%\" or \n",
    "resumen like \"%logistic euroscore%\" or\n",
    "resumen like \"% ACC/AHA %\" or\n",
    "resumen like \"% REYNOLDS %\" or\n",
    "resumen like '%maggic score%') and\n",
    "Fecha >= 2018 \n",
    "and nombre not  like \"%Imag_%\" and resumen not like \"%Imag_%\" and nombre not like \"%Mhealth%\" and resumen not like \"%Mhealth%\"\n",
    "and (\n",
    "nombre like '%cardio_%' or nombre like '%heart_%'  or nombre like '%Feature selection%' or nombre like '%Natural Language Processing%' or \n",
    "nombre like '%Machine%' or nombre like '%deep%' or nombre like '%lear_%' or nombre like '%scien_%' or nombre like '%program_%' or nombre like '%Comput_%' or \n",
    "nombre like '%Artifi_%'  or  nombre like '%intelli_%'\n",
    ") and (\n",
    "resumen like '%cardio_%' or resumen like '%heart_%'  or resumen like '%Feature selection%' or resumen like '%Natural Language Processing%' or \n",
    "resumen like '%Machine%' or resumen like '%deep%' or resumen like '%lear_%' or resumen like '%scien_%' or resumen like '%program_%' or resumen like '%Comput_%' or \n",
    "resumen like '%Artifi_%'  or  resumen like '%intelli_%');\"\"\"\n",
    "process = ConnectionDB().connect()\n",
    "process.query(processQuery)\n",
    "result4=process.use_result().fetch_row(maxrows=0,how=1)\n",
    "process.close()\n"
   ]
  },
  {
   "cell_type": "code",
   "execution_count": 375,
   "id": "8e1a93d8",
   "metadata": {},
   "outputs": [],
   "source": [
    "processQuery =\"\"\"select count(resumen) as framingham \n",
    ",(select count(resumen)  FROM scraping.articulo where  resumen like \"% grace %\" and Fecha >= 2018 ) as grace\n",
    ",(select count(resumen)  FROM scraping.articulo where  resumen like \"% procam %\" and Fecha >= 2018 ) as procam\n",
    ",(select count(resumen)  FROM scraping.articulo where  resumen like \"% euroscore %\" and Fecha >= 2018 ) as euroscore\n",
    ",(select count(resumen)  FROM scraping.articulo where  resumen like \"% qrisk %\" and Fecha >= 2018 ) as qrisk\n",
    ",(select count(resumen)  FROM scraping.articulo where  resumen like \"%qrisk_2%\" and Fecha >= 2018 ) as qrisk_2\n",
    ",(select count(resumen)  FROM scraping.articulo where  resumen like \"%timi score%\" and Fecha >= 2018 ) as timi_score\n",
    ",(select count(resumen)  FROM scraping.articulo where  resumen like \"% timi %\" and Fecha >= 2018 )  as timi\n",
    ",(select count(resumen)  FROM scraping.articulo where  resumen like \"% euroscore_1 %\" and Fecha >= 2018 ) as euroscore_1\n",
    ",(select count(resumen)  FROM scraping.articulo where  resumen like \"% euroscore_2 %\" and Fecha >= 2018 ) as euroscore_2\n",
    ",(select count(resumen)  FROM scraping.articulo where  resumen like \"% sts score %\" and Fecha >= 2018 ) as sts_score\n",
    ",(select count(resumen)  FROM scraping.articulo where  resumen like \"% ARGSCORE %\" and Fecha >= 2018 ) as ARGSCORE\n",
    ",(select count(resumen)  FROM scraping.articulo where  resumen like \"% logistic euroscore %\" and Fecha >= 2018 ) as logistic_euroscore\n",
    ",(select count(resumen)  FROM scraping.articulo where  resumen like \"% maggic %\" and Fecha >= 2018 ) as maggic_score\n",
    ",(select count(resumen)  FROM scraping.articulo where  resumen like \"% REYNOLDS %\" and Fecha >= 2018 ) as REYNOLDS\n",
    ",(select count(resumen)  FROM scraping.articulo where  resumen like \"% ACC/AHA %\" and Fecha >= 2018 ) as ACCAHA\n",
    ",(select count(resumen)  FROM scraping.articulo where  resumen like \"%AHA %\" and Fecha >= 2018 ) as AHA\n",
    "FROM scraping.articulo where  resumen like \"% framingham %\" and Fecha >= 2018; \"\"\"\n",
    "process = ConnectionDB().connect()\n",
    "process.query(processQuery)\n",
    "result5=process.use_result().fetch_row(maxrows=0,how=1)\n",
    "process.close()"
   ]
  },
  {
   "cell_type": "code",
   "execution_count": 383,
   "id": "ae2f9b6c",
   "metadata": {},
   "outputs": [],
   "source": [
    "from pandas import json_normalize\n",
    "import numpy as np\n",
    "df_car =json_normalize(result5)\n",
    "# Transform data\n",
    "for col in df_car.columns:\n",
    "    for i in range(df_car.shape[0]):\n",
    "        df_car.loc[i,col]=df_car.loc[i,col].decode(encoding=\"utf-8\")\n",
    "\n",
    "df_car = df_car.astype(int).T.sort_values(0,ascending=True)"
   ]
  },
  {
   "cell_type": "code",
   "execution_count": 315,
   "id": "09ecb7d6",
   "metadata": {},
   "outputs": [],
   "source": [
    "df_carRevista2 =json_normalize(result4)\n",
    "# Transform data\n",
    "for col in df_carRevista2.columns:\n",
    "    for i in range(df_carRevista2.shape[0]):\n",
    "        df_carRevista2.loc[i,col]=df_carRevista2.loc[i,col].decode(encoding=\"utf-8\")\n",
    "df_carRevista2[\"nombre\"] =\"CANTIDAD DE ARTICULOS QUE HABLAN O TRATAN SOBRE ENFERMEDADES CARDIOVASCULARES , MODELOS DE RIESGO e inteligencia artificial\""
   ]
  },
  {
   "cell_type": "code",
   "execution_count": 124,
   "id": "76bea5c2",
   "metadata": {},
   "outputs": [],
   "source": [
    "from pandas import json_normalize\n",
    "import numpy as np\n",
    "df =json_normalize(result)\n",
    "# Transform data\n",
    "for col in df.columns:\n",
    "    for i in range(df.shape[0]):\n",
    "        df.loc[i,col]=df.loc[i,col].decode(encoding=\"utf-8\")\n"
   ]
  },
  {
   "cell_type": "code",
   "execution_count": 161,
   "id": "1a3ff614",
   "metadata": {},
   "outputs": [],
   "source": [
    "df_revista =json_normalize(result2)\n",
    "# Transform data\n",
    "for col in df_revista.columns:\n",
    "    for i in range(df_revista.shape[0]):\n",
    "        df_revista.loc[i,col]=df_revista.loc[i,col].decode(encoding=\"utf-8\")"
   ]
  },
  {
   "cell_type": "code",
   "execution_count": 314,
   "id": "491148ad",
   "metadata": {},
   "outputs": [],
   "source": [
    "df_carRevista =json_normalize(result3)\n",
    "# Transform data\n",
    "for col in df_carRevista.columns:\n",
    "    for i in range(df_carRevista.shape[0]):\n",
    "        df_carRevista.loc[i,col]=df_carRevista.loc[i,col].decode(encoding=\"utf-8\")\n",
    "df_carRevista[\"nombre\"] =\"CANTIDAD DE ARTICULOS QUE HABLAN O TRATAN SOBRE ENFERMEDADES CARDIOVASCULARES e inteligencia artificial\""
   ]
  },
  {
   "cell_type": "code",
   "execution_count": 317,
   "id": "dd1ba8af",
   "metadata": {},
   "outputs": [
    {
     "name": "stderr",
     "output_type": "stream",
     "text": [
      "C:\\Users\\Admin\\AppData\\Local\\Temp\\ipykernel_16152\\1111646734.py:1: FutureWarning: The frame.append method is deprecated and will be removed from pandas in a future version. Use pandas.concat instead.\n",
      "  df_final = df_carRevista.append(df_carRevista2, ignore_index=True)\n"
     ]
    }
   ],
   "source": [
    "df_final = df_carRevista.append(df_carRevista2, ignore_index=True)"
   ]
  },
  {
   "cell_type": "code",
   "execution_count": 126,
   "id": "df4b1486",
   "metadata": {},
   "outputs": [],
   "source": [
    "import matplotlib.pyplot as plt"
   ]
  },
  {
   "cell_type": "code",
   "execution_count": 404,
   "id": "3f4729e6",
   "metadata": {},
   "outputs": [
    {
     "data": {
      "image/png": "[encoded data removed]",
      "text/plain": [
       "<Figure size 1440x720 with 1 Axes>"
      ]
     },
     "metadata": {
      "needs_background": "light"
     },
     "output_type": "display_data"
    }
   ],
   "source": [
    "plt.figure(figsize=(20,10))\n",
    "plt.title(\"Cantidad de articulo por cada pais\")\n",
    "plt.xlabel(\"paises\")\n",
    "plt.ylabel(\"Cantidad de pais\")\n",
    "dfrrss_sort = df.sort_values(\"country\",ascending=True)\n",
    "plt.hist(dfrrss_sort[\"country\"])\n",
    "plt.show() # no necesariamente en Jupyter Notebooks"
   ]
  },
  {
   "cell_type": "code",
   "execution_count": 410,
   "id": "65d61619",
   "metadata": {},
   "outputs": [
    {
     "data": {
      "text/plain": [
       "united states     1513\n",
       "switzerland        600\n",
       "germany            504\n",
       "united kingdom     307\n",
       "canada             297\n",
       "netherlands        257\n",
       "ireland            187\n",
       "saudi arabia        89\n",
       "egypt               30\n",
       "Name: country, dtype: int64"
      ]
     },
     "execution_count": 410,
     "metadata": {},
     "output_type": "execute_result"
    }
   ],
   "source": [
    "dfrrss_sort[\"country\"].value_counts()"
   ]
  },
  {
   "cell_type": "code",
   "execution_count": 319,
   "id": "8e887c79",
   "metadata": {},
   "outputs": [
    {
     "data": {
      "image/png": "[encoded data removed]",
      "text/plain": [
       "<Figure size 1080x720 with 1 Axes>"
      ]
     },
     "metadata": {
      "needs_background": "light"
     },
     "output_type": "display_data"
    }
   ],
   "source": [
    "plt.figure(figsize=(15,10))\n",
    "plt.title(\"Cantidad de articulo por cada año\")\n",
    "plt.xlabel(\"Años\")\n",
    "plt.ylabel(\"Cantidad de años\")\n",
    "dfrrss_sort = df.sort_values(\"Fecha\",ascending=True)\n",
    "plt.hist(dfrrss_sort[\"Fecha\"])\n",
    "plt.show() # no necesariamente en Jupyter Notebooks"
   ]
  },
  {
   "cell_type": "code",
   "execution_count": 320,
   "id": "b1b0b9f2",
   "metadata": {},
   "outputs": [
    {
     "data": {
      "image/png": "[encoded data removed]",
      "text/plain": [
       "<Figure size 1080x720 with 1 Axes>"
      ]
     },
     "metadata": {
      "needs_background": "light"
     },
     "output_type": "display_data"
    }
   ],
   "source": [
    "plt.figure(figsize=(15,10))\n",
    "plt.title(\"Cantidad de articulo por cada cuartil\")\n",
    "plt.xlabel(\"Cuartil\")\n",
    "plt.ylabel(\"Cantidad Cuartil\")\n",
    "dfrrss_sort = df.sort_values(\"Q\",ascending=True)\n",
    "plt.hist(dfrrss_sort[\"Q\"])\n",
    "plt.show() # no necesariamente en Jupyter Notebooks\n"
   ]
  },
  {
   "cell_type": "code",
   "execution_count": 321,
   "id": "990f256f",
   "metadata": {},
   "outputs": [
    {
     "data": {
      "image/png": "[encoded data removed]",
      "text/plain": [
       "<Figure size 1440x720 with 1 Axes>"
      ]
     },
     "metadata": {
      "needs_background": "light"
     },
     "output_type": "display_data"
    },
    {
     "data": {
      "text/html": [
       "<div>\n",
       "<style scoped>\n",
       "    .dataframe tbody tr th:only-of-type {\n",
       "        vertical-align: middle;\n",
       "    }\n",
       "\n",
       "    .dataframe tbody tr th {\n",
       "        vertical-align: top;\n",
       "    }\n",
       "\n",
       "    .dataframe thead th {\n",
       "        text-align: right;\n",
       "    }\n",
       "</style>\n",
       "<table border=\"1\" class=\"dataframe\">\n",
       "  <thead>\n",
       "    <tr style=\"text-align: right;\">\n",
       "      <th></th>\n",
       "      <th>idRevista</th>\n",
       "      <th>nombre</th>\n",
       "    </tr>\n",
       "  </thead>\n",
       "  <tbody>\n",
       "    <tr>\n",
       "      <th>0</th>\n",
       "      <td>1</td>\n",
       "      <td>International Journal Of Medical Informatics</td>\n",
       "    </tr>\n",
       "    <tr>\n",
       "      <th>1</th>\n",
       "      <td>2</td>\n",
       "      <td>IEEE Journal Of Biomedical And Health Informatics</td>\n",
       "    </tr>\n",
       "    <tr>\n",
       "      <th>2</th>\n",
       "      <td>3</td>\n",
       "      <td>Journal of Network and Computer Applications</td>\n",
       "    </tr>\n",
       "    <tr>\n",
       "      <th>3</th>\n",
       "      <td>4</td>\n",
       "      <td>Journal of Advanced Research</td>\n",
       "    </tr>\n",
       "    <tr>\n",
       "      <th>4</th>\n",
       "      <td>5</td>\n",
       "      <td>Journal of Building Engineering</td>\n",
       "    </tr>\n",
       "    <tr>\n",
       "      <th>5</th>\n",
       "      <td>6</td>\n",
       "      <td>Heart Rhythm</td>\n",
       "    </tr>\n",
       "    <tr>\n",
       "      <th>6</th>\n",
       "      <td>7</td>\n",
       "      <td>Revista Española de Cardiología</td>\n",
       "    </tr>\n",
       "    <tr>\n",
       "      <th>7</th>\n",
       "      <td>8</td>\n",
       "      <td>Journal of Cardiac Failure</td>\n",
       "    </tr>\n",
       "    <tr>\n",
       "      <th>8</th>\n",
       "      <td>9</td>\n",
       "      <td>Preventive Medicine</td>\n",
       "    </tr>\n",
       "    <tr>\n",
       "      <th>9</th>\n",
       "      <td>10</td>\n",
       "      <td>International Journal Of Environmental Researc...</td>\n",
       "    </tr>\n",
       "    <tr>\n",
       "      <th>10</th>\n",
       "      <td>11</td>\n",
       "      <td>Journal Of Biomedical Informatics</td>\n",
       "    </tr>\n",
       "    <tr>\n",
       "      <th>11</th>\n",
       "      <td>12</td>\n",
       "      <td>Neural Networks</td>\n",
       "    </tr>\n",
       "    <tr>\n",
       "      <th>12</th>\n",
       "      <td>13</td>\n",
       "      <td>Engineering Applications of Artificial Intelli...</td>\n",
       "    </tr>\n",
       "    <tr>\n",
       "      <th>13</th>\n",
       "      <td>14</td>\n",
       "      <td>JACC: Cardiovascular Imaging</td>\n",
       "    </tr>\n",
       "    <tr>\n",
       "      <th>14</th>\n",
       "      <td>15</td>\n",
       "      <td>Artificial Intelligence in Precision Health, 2020</td>\n",
       "    </tr>\n",
       "    <tr>\n",
       "      <th>15</th>\n",
       "      <td>16</td>\n",
       "      <td>Personalized Health Systems for Cardiovascular...</td>\n",
       "    </tr>\n",
       "    <tr>\n",
       "      <th>16</th>\n",
       "      <td>17</td>\n",
       "      <td>Computers in Biology and Medicine</td>\n",
       "    </tr>\n",
       "    <tr>\n",
       "      <th>17</th>\n",
       "      <td>18</td>\n",
       "      <td>Journal of Cardiology</td>\n",
       "    </tr>\n",
       "    <tr>\n",
       "      <th>18</th>\n",
       "      <td>19</td>\n",
       "      <td>International Journal of Cardiology</td>\n",
       "    </tr>\n",
       "    <tr>\n",
       "      <th>19</th>\n",
       "      <td>20</td>\n",
       "      <td>Artificial Intelligence in Medicine</td>\n",
       "    </tr>\n",
       "    <tr>\n",
       "      <th>20</th>\n",
       "      <td>21</td>\n",
       "      <td>Computer Aided Chemical Engineering</td>\n",
       "    </tr>\n",
       "    <tr>\n",
       "      <th>21</th>\n",
       "      <td>22</td>\n",
       "      <td>European Journal of Operational Research</td>\n",
       "    </tr>\n",
       "    <tr>\n",
       "      <th>22</th>\n",
       "      <td>23</td>\n",
       "      <td>Computer Science Review</td>\n",
       "    </tr>\n",
       "    <tr>\n",
       "      <th>23</th>\n",
       "      <td>24</td>\n",
       "      <td>Expert Systems With Applications</td>\n",
       "    </tr>\n",
       "    <tr>\n",
       "      <th>24</th>\n",
       "      <td>25</td>\n",
       "      <td>Journal of the American College of Cardiology</td>\n",
       "    </tr>\n",
       "    <tr>\n",
       "      <th>25</th>\n",
       "      <td>26</td>\n",
       "      <td>Heart Failure Clinics</td>\n",
       "    </tr>\n",
       "    <tr>\n",
       "      <th>26</th>\n",
       "      <td>27</td>\n",
       "      <td>Advances In Intelligent Systems And Computing</td>\n",
       "    </tr>\n",
       "    <tr>\n",
       "      <th>27</th>\n",
       "      <td>28</td>\n",
       "      <td>Computer Methods and Programs in Biomedicine</td>\n",
       "    </tr>\n",
       "    <tr>\n",
       "      <th>28</th>\n",
       "      <td>29</td>\n",
       "      <td>Journal of King Saud University - Computer and...</td>\n",
       "    </tr>\n",
       "    <tr>\n",
       "      <th>29</th>\n",
       "      <td>30</td>\n",
       "      <td>Advances in Computers</td>\n",
       "    </tr>\n",
       "    <tr>\n",
       "      <th>30</th>\n",
       "      <td>31</td>\n",
       "      <td>Canadian Journal of Cardiology</td>\n",
       "    </tr>\n",
       "    <tr>\n",
       "      <th>31</th>\n",
       "      <td>807</td>\n",
       "      <td>American Journal of Cardiology</td>\n",
       "    </tr>\n",
       "    <tr>\n",
       "      <th>32</th>\n",
       "      <td>1639</td>\n",
       "      <td>International Journal Of Advanced Computer Sci...</td>\n",
       "    </tr>\n",
       "    <tr>\n",
       "      <th>33</th>\n",
       "      <td>1640</td>\n",
       "      <td>Annals Of Operations Research</td>\n",
       "    </tr>\n",
       "    <tr>\n",
       "      <th>34</th>\n",
       "      <td>1641</td>\n",
       "      <td>Cluster Computing</td>\n",
       "    </tr>\n",
       "    <tr>\n",
       "      <th>35</th>\n",
       "      <td>1642</td>\n",
       "      <td>Arabian Journal For Science And Engineering</td>\n",
       "    </tr>\n",
       "  </tbody>\n",
       "</table>\n",
       "</div>"
      ],
      "text/plain": [
       "   idRevista                                             nombre\n",
       "0          1       International Journal Of Medical Informatics\n",
       "1          2  IEEE Journal Of Biomedical And Health Informatics\n",
       "2          3       Journal of Network and Computer Applications\n",
       "3          4                       Journal of Advanced Research\n",
       "4          5                    Journal of Building Engineering\n",
       "5          6                                       Heart Rhythm\n",
       "6          7                    Revista Española de Cardiología\n",
       "7          8                         Journal of Cardiac Failure\n",
       "8          9                                Preventive Medicine\n",
       "9         10  International Journal Of Environmental Researc...\n",
       "10        11                  Journal Of Biomedical Informatics\n",
       "11        12                                    Neural Networks\n",
       "12        13  Engineering Applications of Artificial Intelli...\n",
       "13        14                       JACC: Cardiovascular Imaging\n",
       "14        15  Artificial Intelligence in Precision Health, 2020\n",
       "15        16  Personalized Health Systems for Cardiovascular...\n",
       "16        17                  Computers in Biology and Medicine\n",
       "17        18                              Journal of Cardiology\n",
       "18        19                International Journal of Cardiology\n",
       "19        20                Artificial Intelligence in Medicine\n",
       "20        21                Computer Aided Chemical Engineering\n",
       "21        22           European Journal of Operational Research\n",
       "22        23                            Computer Science Review\n",
       "23        24                   Expert Systems With Applications\n",
       "24        25      Journal of the American College of Cardiology\n",
       "25        26                              Heart Failure Clinics\n",
       "26        27      Advances In Intelligent Systems And Computing\n",
       "27        28       Computer Methods and Programs in Biomedicine\n",
       "28        29  Journal of King Saud University - Computer and...\n",
       "29        30                              Advances in Computers\n",
       "30        31                     Canadian Journal of Cardiology\n",
       "31       807                     American Journal of Cardiology\n",
       "32      1639  International Journal Of Advanced Computer Sci...\n",
       "33      1640                      Annals Of Operations Research\n",
       "34      1641                                  Cluster Computing\n",
       "35      1642        Arabian Journal For Science And Engineering"
      ]
     },
     "execution_count": 321,
     "metadata": {},
     "output_type": "execute_result"
    }
   ],
   "source": [
    "plt.figure(figsize=(20,10))\n",
    "#add_value_label(df_revista[\"idRevista\"],df_revista[\"nombre\"])\n",
    "plt.title(\"Cantidad de articulo por cada revista\")\n",
    "plt.xlabel(\"idRevista\")\n",
    "plt.ylabel(\"Cantidad Revistas\")\n",
    "dfrrss_sort = df.sort_values(\"revista.idRevista\",ascending=True)\n",
    "plt.hist(dfrrss_sort[\"revista.idRevista\"])\n",
    "plt.show() # no necesariamente en Jupyter Notebooks\n",
    "df_revista[[\"idRevista\",\"nombre\"]]"
   ]
  },
  {
   "cell_type": "code",
   "execution_count": 318,
   "id": "8cbad832",
   "metadata": {},
   "outputs": [
    {
     "data": {
      "image/png": "[encoded data removed]",
      "text/plain": [
       "<Figure size 1080x720 with 1 Axes>"
      ]
     },
     "metadata": {
      "needs_background": "light"
     },
     "output_type": "display_data"
    }
   ],
   "source": [
    "plt.figure(figsize=(15,10))\n",
    "plt.title(\"Comparacion de articulos que hablan con y sin modelos de riesgo , enfermedades cardiovasculares e inteligencia artificial\")\n",
    "plt.ylabel(\"Cantidad Revistas\")\n",
    "df_final = df_final.sort_values(\"count(idArticulo)\",ascending=True)\n",
    "plt.scatter(df_final[\"nombre\"],df_final[\"count(idArticulo)\"])\n",
    "plt.show() # no necesariamente en Jupyter Notebooks"
   ]
  },
  {
   "cell_type": "code",
   "execution_count": 390,
   "id": "e694ac5c",
   "metadata": {
    "scrolled": true
   },
   "outputs": [
    {
     "data": {
      "text/plain": [
       "<BarContainer object of 17 artists>"
      ]
     },
     "execution_count": 390,
     "metadata": {},
     "output_type": "execute_result"
    },
    {
     "data": {
      "image/png": "[encoded data removed]",
      "text/plain": [
       "<Figure size 2088x1080 with 1 Axes>"
      ]
     },
     "metadata": {
      "needs_background": "light"
     },
     "output_type": "display_data"
    }
   ],
   "source": [
    "plt.figure(figsize=(29,15))\n",
    "plt.bar(df_car.index,df_car[0])"
   ]
  }
 ],
 "metadata": {
  "kernelspec": {
   "display_name": "Python (base)",
   "language": "python",
   "name": "base"
  },
  "language_info": {
   "codemirror_mode": {
    "name": "ipython",
    "version": 3
   },
   "file_extension": ".py",
   "mimetype": "text/x-python",
   "name": "python",
   "nbconvert_exporter": "python",
   "pygments_lexer": "ipython3",
   "version": "3.9.12"
  }
 },
 "nbformat": 4,
 "nbformat_minor": 5
}
