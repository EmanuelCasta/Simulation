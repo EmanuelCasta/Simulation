{
 "cells": [
  {
   "cell_type": "code",
   "execution_count": 56,
   "id": "c61562a7",
   "metadata": {},
   "outputs": [],
   "source": [
    "from selenium import webdriver\n",
    "from selenium.webdriver.chrome.options import Options\n",
    "from selenium.webdriver.common.by import By\n",
    "from selenium.webdriver.support.ui import WebDriverWait\n",
    "from selenium.webdriver.support import expected_conditions as EC\n",
    "from selenium.common.exceptions import NoSuchElementException   "
   ]
  },
  {
   "cell_type": "code",
   "execution_count": 57,
   "id": "cb9e52c6",
   "metadata": {},
   "outputs": [],
   "source": [
    "import time\n",
    "import urllib.request\n",
    "import os\n",
    "import requests\n",
    "import io\n",
    "import patch \n",
    "import os\n",
    "from dotenv import load_dotenv"
   ]
  },
  {
   "cell_type": "code",
   "execution_count": 58,
   "id": "35402cd5",
   "metadata": {},
   "outputs": [],
   "source": [
    "import os\n",
    "from ScopeScraper import ScopeScraper\n",
    "from patch import webdriver_executable\n",
    "import numpy as np\n",
    "import pandas as pd\n",
    "import random\n",
    "from datetime import date\n",
    "from datetime import datetime"
   ]
  },
  {
   "cell_type": "code",
   "execution_count": 59,
   "id": "9923b2a9",
   "metadata": {},
   "outputs": [],
   "source": [
    "def generate_words(name_Filters,logic,word_no_necessary):\n",
    "    df = pd.DataFrame(name_Filters)\n",
    "    x_ax,y_ax,z_ax= np.meshgrid(df['word_key'],df['word_complementary'],df['word_features'])\n",
    "    vals =  np.c_[x_ax.ravel(), y_ax.ravel(),z_ax.ravel()]\n",
    "    words =[]\n",
    "   \n",
    "    for i in vals:\n",
    "       \n",
    "        text =\" \"\n",
    "        for j in word_no_necessary:\n",
    "            text = text + logic[2]+  \" \" + j+\" \"\n",
    "\n",
    "        #print(i[0]+  \" \"+logic[0]+  \" \"+i[1]+  \" \"+logic[random.choice(count)]+  \" \"+i[2]+text)\n",
    "        for j in logic:\n",
    "            words.append(i[0]+  \" \"+logic[0]+  \" \"+i[1]+  \" \"+j+  \" \"+i[2]+text)\n",
    "    return words"
   ]
  },
  {
   "cell_type": "code",
   "execution_count": 60,
   "id": "accdb615",
   "metadata": {},
   "outputs": [],
   "source": [
    "name_Filters = {\n",
    "        'word_features' : ['\"Genetic algorithms\"','\"network algorithms\"', '\"dynamic programming\"', '\"game theory\"', '\"graph theory\"'],\n",
    "        'word_key' : ['\"Heart failure\"','\"Cardiovascular diseases\"','\"Abnormal heart rhythms\"','\"Aorta disease\"','\"Congenital heart disease\"'],\n",
    "        'word_complementary'  : ['\"Artificial intelligence\"','\"Feature selection\"','\"Machine learning\"','\"Deep learning\"','\"Computer science\"']\n",
    "       \n",
    "    }\n",
    "logic= ['AND','OR','NOT']\n",
    "word_no_necessary = ['\"Prototype\"','\"First study\"','\"Animals\"','\"Floors\"']\n",
    "subject_area = [\"Computer Science\",\"Engineering\",\"Mathematics\",\"Biochemistry\", \"Genetics and Molecular Biology\",\"Neuroscience\",\"Medicine and Dentistry\",\"Decision Sciences\",\"Psychology\"]"
   ]
  },
  {
   "cell_type": "code",
   "execution_count": 61,
   "id": "a0297359",
   "metadata": {},
   "outputs": [
    {
     "name": "stdout",
     "output_type": "stream",
     "text": [
      "[INFO] Create new folder\n",
      "[INFO] Scraping for DB link... Please wait.\n"
     ]
    }
   ],
   "source": [
    "webdriver_path = os.path.normpath(os.path.join(os.getcwd(), 'webdriver', webdriver_executable()))\n",
    "articules_path = os.path.normpath(os.path.join(os.getcwd(), 'articles'))\n",
    "directDB = ScopeScraper(webdriver_path,articules_path,name_Filters)\n",
    "directDB.enter_systems()\n"
   ]
  },
  {
   "cell_type": "code",
   "execution_count": 62,
   "id": "9bb9491b",
   "metadata": {},
   "outputs": [
    {
     "name": "stdout",
     "output_type": "stream",
     "text": [
      "\"Heart failure\" AND \"Artificial intelligence\" AND \"Genetic algorithms\" NOT \"Prototype\" NOT \"First study\" NOT \"Animals\" NOT \"Floors\" \n",
      "[INFO] Scraping for DB link... Please wait.\n",
      "Review articles (9)\n",
      "Book chapters (4)\n",
      "\"Heart failure\" AND \"Artificial intelligence\" AND \"Genetic algorithms\" NOT \"Prototype\" NOT \"First study\" NOT \"Animals\" NOT \"Floors\" \n",
      "13\n"
     ]
    }
   ],
   "source": [
    "time.sleep(1)\n",
    "count = 0\n",
    "for search_string in generate_words(name_Filters,logic,word_no_necessary):\n",
    "    print(search_string)\n",
    "    directDB.search_word(search_string)\n",
    "    directDB.find_article_urls()\n",
    "    if count == 0:\n",
    "        break\n",
    "    count += 1"
   ]
  },
  {
   "cell_type": "code",
   "execution_count": 48,
   "id": "f11c50eb",
   "metadata": {},
   "outputs": [],
   "source": [
    "directDB.driver.close()"
   ]
  },
  {
   "cell_type": "code",
   "execution_count": 63,
   "id": "f6d1adec",
   "metadata": {},
   "outputs": [],
   "source": [
    "driver=directDB.driver"
   ]
  },
  {
   "cell_type": "code",
   "execution_count": 97,
   "id": "cf6f84d3",
   "metadata": {},
   "outputs": [],
   "source": [
    "textarea = driver.find_element_by_xpath('//*[@id=\"qs\"]')\n"
   ]
  },
  {
   "cell_type": "code",
   "execution_count": null,
   "id": "0bcdc616",
   "metadata": {},
   "outputs": [],
   "source": [
    "textarea.click()\n",
    "textarea.clear()"
   ]
  },
  {
   "cell_type": "code",
   "execution_count": null,
   "id": "4c5c9fc3",
   "metadata": {},
   "outputs": [],
   "source": [
    "textarea.send_keys(\"hola\")"
   ]
  },
  {
   "cell_type": "code",
   "execution_count": 42,
   "id": "6f65f249",
   "metadata": {},
   "outputs": [
    {
     "data": {
      "text/plain": [
       "104506"
      ]
     },
     "execution_count": 42,
     "metadata": {},
     "output_type": "execute_result"
    }
   ],
   "source": [
    "int(''.join(driver.find_element_by_xpath('//span[@class=\"search-body-results-text\"]').text.split(' ')[0].split(',')))"
   ]
  },
  {
   "cell_type": "code",
   "execution_count": 216,
   "id": "d89e1464",
   "metadata": {},
   "outputs": [],
   "source": [
    "dates = driver.find_element_by_xpath('//ol')\n",
    "da =dates.find_elements_by_xpath('./child::*')\n",
    "today = date.today()\n",
    "dat = []\n",
    "for i in da:\n",
    "    if int(''.join(i.text.split(' ')[0]).isnumeric()):\n",
    "        if int(''.join(i.text.split(' ')[0])) > int(today.year-5):\n",
    "            dat.append(int(''.join(i.text.split(' ')[0])))\n",
    "for i in range(len(dat)):\n",
    "    a = dates.find_element_by_xpath(f'//label[@for=\"years-{str(dat[i])}\"]//span[@class=\"checkbox-check checkbox-small checkbox-label-indent\"]')\n",
    "    a.click()"
   ]
  },
  {
   "cell_type": "code",
   "execution_count": 217,
   "id": "3b8945d6",
   "metadata": {},
   "outputs": [
    {
     "name": "stdout",
     "output_type": "stream",
     "text": [
      "Review articles (11)\n",
      "Book chapters (5)\n"
     ]
    }
   ],
   "source": [
    "art =['Review articles','Book chapters']\n",
    "articletype = driver.find_element_by_xpath('//form[@name=\"filters\"]/child::div/div[2]//ol')\n",
    "li =articletype.find_elements_by_xpath('./child::*')\n",
    "count = 1\n",
    "for i in li:\n",
    "    for j in art:\n",
    "        text = \"\"\n",
    "        for x in i.text.split():\n",
    "            value = ''.join(''.join(x.split(\"(\")).split(\")\")[0].split(\",\"))\n",
    "            if value.isnumeric():\n",
    "                value= int(value)\n",
    "            if type(value)==str:\n",
    "                text = text+\" \"+value\n",
    "        if j == text.strip():\n",
    "            print(i.text)\n",
    "            article = driver.find_element_by_xpath(f'//form[@name=\"filters\"]/child::div/div[2]//ol/child::li[{count}]')\n",
    "            article.click()\n",
    "            break\n",
    "    count = count + 1"
   ]
  },
  {
   "cell_type": "code",
   "execution_count": 214,
   "id": "a876ee39",
   "metadata": {},
   "outputs": [
    {
     "name": "stdout",
     "output_type": "stream",
     "text": [
      "Engineering (990)\n",
      "Computer Science (617)\n",
      "Medicine and Dentistry (390)\n"
     ]
    }
   ],
   "source": [
    "art =[\"Computer Science\",\"Engineering\",\"Mathematics\",\"Biochemistry\", \"Genetics and Molecular Biology\",\"Neuroscience\",\"Medicine and Dentistry\",\"Psychology\"]\n",
    "articletype = driver.find_element_by_xpath('//form[@name=\"filters\"]/child::div/div[4]//ol')\n",
    "li =articletype.find_elements_by_xpath('./child::*')\n",
    "count = 1\n",
    "for i in li:\n",
    "    for j in art:\n",
    "        text = \"\"\n",
    "        for x in i.text.split():\n",
    "            value = ''.join(''.join(x.split(\"(\")).split(\")\")[0].split(\",\"))\n",
    "            if value.isnumeric():\n",
    "                value= int(value)\n",
    "            if type(value)==str:\n",
    "                text = text+\" \"+value\n",
    "        if j == text.strip():\n",
    "            print(i.text)\n",
    "            #mirar el div con div es el lugar de la section y el otro li count dejarlo como esta\n",
    "            article = driver.find_element_by_xpath(f'//form[@name=\"filters\"]/child::div/div[4]//ol/child::li[{count}]')\n",
    "            article.click()\n",
    "            break\n",
    "    count = count + 1"
   ]
  },
  {
   "cell_type": "code",
   "execution_count": 215,
   "id": "9f54dab3",
   "metadata": {},
   "outputs": [
    {
     "name": "stdout",
     "output_type": "stream",
     "text": [
      "Computer Aided Chemical Engineering (97)\n",
      "European Journal of Operational Research (41)\n",
      "Computer Science Review (32)\n",
      "Journal of the American College of Cardiology (17)\n",
      "Journal of King Saud University - Computer and Information Sciences (17)\n",
      "Computer Methods and Programs in Biomedicine (16)\n",
      "Computers in Biology and Medicine (14)\n",
      "Heart Failure Clinics (14)\n",
      "Advances in Computers (13)\n"
     ]
    }
   ],
   "source": [
    "art = ['JACC: Cardiovascular Imaging','Artificial Intelligence in Precision Health, 2020','Personalized Health Systems for Cardiovascular Disease, 2022','Computers in Biology and Medicine','Artificial Intelligence in Medicine','Computer Aided Chemical Engineering','European Journal of Operational Research','Computer Science Review','Journal of the American College of Cardiology','Heart Failure Clinics','Computer Methods and Programs in Biomedicine','Journal of King Saud University - Computer and Information Sciences','Advances in Computers','Canadian Journal of Cardiology',]\n",
    "articletype = driver.find_element_by_xpath('//form[@name=\"filters\"]/child::div/div[3]//ol')\n",
    "li =articletype.find_elements_by_xpath('./child::*')\n",
    "count = 1\n",
    "for i in li:\n",
    "    for j in art:\n",
    "        text = \"\"\n",
    "        for x in i.text.split():\n",
    "            value = ''.join(''.join(x.split(\"(\")).split(\")\")[0].split(\",\"))\n",
    "            if value.isnumeric():\n",
    "                value= int(value)\n",
    "            if type(value)==str:\n",
    "                text = text+\" \"+value\n",
    "        if j == text.strip():\n",
    "            print(i.text)\n",
    "            #mirar el div con div es el lugar de la section y el otro li count dejarlo como esta\n",
    "            article = driver.find_element_by_xpath(f'//form[@name=\"filters\"]/child::div/div[3]//ol/child::li[{count}]')\n",
    "            article.click()\n",
    "            break\n",
    "    count = count + 1"
   ]
  },
  {
   "cell_type": "code",
   "execution_count": 218,
   "id": "9625dad4",
   "metadata": {},
   "outputs": [
    {
     "data": {
      "text/plain": [
       "16"
      ]
     },
     "execution_count": 218,
     "metadata": {},
     "output_type": "execute_result"
    }
   ],
   "source": [
    "int(''.join(driver.find_element_by_xpath('//span[@class=\"search-body-results-text\"]').text.split(' ')[0].split(',')))"
   ]
  },
  {
   "cell_type": "code",
   "execution_count": 129,
   "id": "695ecc1e",
   "metadata": {},
   "outputs": [],
   "source": [
    "from MySQLdb import _mysql"
   ]
  },
  {
   "cell_type": "code",
   "execution_count": 130,
   "id": "a631b97b",
   "metadata": {},
   "outputs": [],
   "source": [
    "db=_mysql.connect(\"127.0.0.1\",\"root\",\"Ema89Cas22.\",\"scraping\")"
   ]
  },
  {
   "cell_type": "code",
   "execution_count": 131,
   "id": "2461e068",
   "metadata": {},
   "outputs": [],
   "source": [
    "db.query(\"\"\"SELECT * FROM palabracaracteristica\"\"\")"
   ]
  },
  {
   "cell_type": "code",
   "execution_count": 132,
   "id": "453629a2",
   "metadata": {},
   "outputs": [],
   "source": [
    "r =db.use_result()"
   ]
  },
  {
   "cell_type": "code",
   "execution_count": 133,
   "id": "af28def3",
   "metadata": {},
   "outputs": [
    {
     "name": "stdout",
     "output_type": "stream",
     "text": [
      "1\n",
      "a\n",
      "2\n",
      "b\n",
      "3\n",
      "c\n"
     ]
    }
   ],
   "source": [
    "for i in r.fetch_row(maxrows=0,how=1):\n",
    "    print(i[\"idPalabraCaracteristica\"].decode(encoding = 'utf-8'))\n",
    "    print(i[\"nombre\"].decode(encoding = 'utf-8'))\n",
    "    "
   ]
  },
  {
   "cell_type": "code",
   "execution_count": 134,
   "id": "cad657e5",
   "metadata": {},
   "outputs": [],
   "source": [
    "db.close()"
   ]
  },
  {
   "cell_type": "code",
   "execution_count": 140,
   "id": "a537a268",
   "metadata": {},
   "outputs": [],
   "source": [
    "db=_mysql.connect(\"127.0.0.1\",\"root\",\"Ema89Cas22.\",\"scraping\")\n",
    "db.query(\"\"\"INSERT INTO palabracaracteristica (idPalabraCaracteristica, nombre) VALUES ('B')\"\"\")\n"
   ]
  },
  {
   "cell_type": "code",
   "execution_count": 141,
   "id": "20a00d6a",
   "metadata": {},
   "outputs": [],
   "source": [
    "db.close()"
   ]
  },
  {
   "cell_type": "code",
   "execution_count": null,
   "id": "52f1e4f3",
   "metadata": {},
   "outputs": [],
   "source": []
  }
 ],
 "metadata": {
  "kernelspec": {
   "display_name": "Python (base)",
   "language": "python",
   "name": "base"
  },
  "language_info": {
   "codemirror_mode": {
    "name": "ipython",
    "version": 3
   },
   "file_extension": ".py",
   "mimetype": "text/x-python",
   "name": "python",
   "nbconvert_exporter": "python",
   "pygments_lexer": "ipython3",
   "version": "3.9.12"
  }
 },
 "nbformat": 4,
 "nbformat_minor": 5
}
